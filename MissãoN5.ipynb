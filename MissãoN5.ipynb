{
  "nbformat": 4,
  "nbformat_minor": 0,
  "metadata": {
    "colab": {
      "provenance": [],
      "authorship_tag": "ABX9TyOMYfbXNKgRdmUvl4QFgCCa",
      "include_colab_link": true
    },
    "kernelspec": {
      "name": "python3",
      "display_name": "Python 3"
    },
    "language_info": {
      "name": "python"
    }
  },
  "cells": [
    {
      "cell_type": "markdown",
      "metadata": {
        "id": "view-in-github",
        "colab_type": "text"
      },
      "source": [
        "<a href=\"https://colab.research.google.com/github/luanguto/Full-stack-estacio/blob/main/Miss%C3%A3oN5.ipynb\" target=\"_parent\"><img src=\"https://colab.research.google.com/assets/colab-badge.svg\" alt=\"Open In Colab\"/></a>"
      ]
    },
    {
      "cell_type": "markdown",
      "source": [
        "Universidade Estácio de Sá\n",
        "\n",
        "Disciplina: Nível 5: Colocando tudo em ordem\n",
        "\n",
        "Turma : 2022.3\n",
        "\n",
        "Aluno: Luan Augusto Vieira Bandeira\n",
        "\n",
        "GitHub: \n"
      ],
      "metadata": {
        "id": "tn2RheoXed9B"
      }
    },
    {
      "cell_type": "markdown",
      "source": [
        "Bibliotecas"
      ],
      "metadata": {
        "id": "cGXyU42IgoKJ"
      }
    },
    {
      "cell_type": "code",
      "source": [
        "!pip install Faker\n",
        "!pip install wordcloud\n",
        "!pip install num2words\n"
      ],
      "metadata": {
        "colab": {
          "base_uri": "https://localhost:8080/"
        },
        "id": "2iEXbkkZgrb8",
        "outputId": "5ebefc54-4f3f-4f9a-a2a1-0f7659e389fd"
      },
      "execution_count": null,
      "outputs": [
        {
          "output_type": "stream",
          "name": "stdout",
          "text": [
            "Looking in indexes: https://pypi.org/simple, https://us-python.pkg.dev/colab-wheels/public/simple/\n",
            "Collecting Faker\n",
            "  Downloading Faker-15.3.3-py3-none-any.whl (1.6 MB)\n",
            "\u001b[K     |████████████████████████████████| 1.6 MB 23.4 MB/s \n",
            "\u001b[?25hRequirement already satisfied: typing-extensions>=3.10.0.1 in /usr/local/lib/python3.7/dist-packages (from Faker) (4.1.1)\n",
            "Requirement already satisfied: python-dateutil>=2.4 in /usr/local/lib/python3.7/dist-packages (from Faker) (2.8.2)\n",
            "Requirement already satisfied: six>=1.5 in /usr/local/lib/python3.7/dist-packages (from python-dateutil>=2.4->Faker) (1.15.0)\n",
            "Installing collected packages: Faker\n",
            "Successfully installed Faker-15.3.3\n",
            "Looking in indexes: https://pypi.org/simple, https://us-python.pkg.dev/colab-wheels/public/simple/\n",
            "Requirement already satisfied: wordcloud in /usr/local/lib/python3.7/dist-packages (1.8.2.2)\n",
            "Requirement already satisfied: pillow in /usr/local/lib/python3.7/dist-packages (from wordcloud) (7.1.2)\n",
            "Requirement already satisfied: numpy>=1.6.1 in /usr/local/lib/python3.7/dist-packages (from wordcloud) (1.21.6)\n",
            "Requirement already satisfied: matplotlib in /usr/local/lib/python3.7/dist-packages (from wordcloud) (3.2.2)\n",
            "Requirement already satisfied: cycler>=0.10 in /usr/local/lib/python3.7/dist-packages (from matplotlib->wordcloud) (0.11.0)\n",
            "Requirement already satisfied: python-dateutil>=2.1 in /usr/local/lib/python3.7/dist-packages (from matplotlib->wordcloud) (2.8.2)\n",
            "Requirement already satisfied: pyparsing!=2.0.4,!=2.1.2,!=2.1.6,>=2.0.1 in /usr/local/lib/python3.7/dist-packages (from matplotlib->wordcloud) (3.0.9)\n",
            "Requirement already satisfied: kiwisolver>=1.0.1 in /usr/local/lib/python3.7/dist-packages (from matplotlib->wordcloud) (1.4.4)\n",
            "Requirement already satisfied: typing-extensions in /usr/local/lib/python3.7/dist-packages (from kiwisolver>=1.0.1->matplotlib->wordcloud) (4.1.1)\n",
            "Requirement already satisfied: six>=1.5 in /usr/local/lib/python3.7/dist-packages (from python-dateutil>=2.1->matplotlib->wordcloud) (1.15.0)\n",
            "Looking in indexes: https://pypi.org/simple, https://us-python.pkg.dev/colab-wheels/public/simple/\n",
            "Collecting num2words\n",
            "  Downloading num2words-0.5.12-py3-none-any.whl (125 kB)\n",
            "\u001b[K     |████████████████████████████████| 125 kB 28.8 MB/s \n",
            "\u001b[?25hCollecting docopt>=0.6.2\n",
            "  Downloading docopt-0.6.2.tar.gz (25 kB)\n",
            "Building wheels for collected packages: docopt\n",
            "  Building wheel for docopt (setup.py) ... \u001b[?25l\u001b[?25hdone\n",
            "  Created wheel for docopt: filename=docopt-0.6.2-py2.py3-none-any.whl size=13723 sha256=4cb7a9867485c6fb10fdacb46f3f52d1243481d7f605f262a6dab706f96bf798\n",
            "  Stored in directory: /root/.cache/pip/wheels/72/b0/3f/1d95f96ff986c7dfffe46ce2be4062f38ebd04b506c77c81b9\n",
            "Successfully built docopt\n",
            "Installing collected packages: docopt, num2words\n",
            "Successfully installed docopt-0.6.2 num2words-0.5.12\n"
          ]
        }
      ]
    },
    {
      "cell_type": "markdown",
      "source": [
        "Bibliotecas"
      ],
      "metadata": {
        "id": "MW084XTMg5HO"
      }
    },
    {
      "cell_type": "code",
      "source": [
        "from faker import Faker\n",
        "from wordcloud import WordCloud\n",
        "from num2words import num2words\n",
        "import matplotlib.pyplot as plt\n",
        "import random"
      ],
      "metadata": {
        "id": "tyI82LPEg6i2"
      },
      "execution_count": null,
      "outputs": []
    },
    {
      "cell_type": "markdown",
      "source": [
        "Gerando dados aleatórios"
      ],
      "metadata": {
        "id": "JXqXRwc_qNkP"
      }
    },
    {
      "cell_type": "code",
      "source": [
        "from faker import Faker\n",
        "\n",
        "fake= Faker('pt_BR')\n",
        "dados_nomes = []\n",
        "dados_notas = []\n",
        "\n",
        "for i in range(20):\n",
        "  nome = fake.name()\n",
        "  nota = fake.random_int(1,10)\n",
        "  print(nome, ',' ,nota)\n",
        "  dados_nomes.append(nome)\n",
        "  dados_notas.append(str(nota))\n",
        "\n",
        "dados = dados_nomes + dados_notas"
      ],
      "metadata": {
        "colab": {
          "base_uri": "https://localhost:8080/"
        },
        "id": "x-OieZYxqPZZ",
        "outputId": "a73f0d02-2464-41e4-8091-876920a33ac4"
      },
      "execution_count": null,
      "outputs": [
        {
          "output_type": "stream",
          "name": "stdout",
          "text": [
            "Ian da Mota , 4\n",
            "Danilo da Cunha , 2\n",
            "Valentina Cunha , 8\n",
            "Isabelly Moura , 8\n",
            "Gabriela Monteiro , 3\n",
            "Luiz Henrique das Neves , 8\n",
            "Leandro Moraes , 3\n",
            "Sra. Fernanda Mendes , 10\n",
            "Paulo Santos , 10\n",
            "Sr. Luiz Gustavo Cunha , 8\n",
            "Evelyn Viana , 8\n",
            "Vinicius Moraes , 7\n",
            "Emanuella Ferreira , 2\n",
            "Pedro Lucas Sales , 3\n",
            "Cecília Campos , 10\n",
            "Gustavo Henrique Cavalcanti , 3\n",
            "João Lucas Rezende , 6\n",
            "Olivia Dias , 5\n",
            "Sarah Pereira , 2\n",
            "Alice Cunha , 3\n"
          ]
        }
      ]
    },
    {
      "cell_type": "markdown",
      "source": [
        "Salvando os arquivos"
      ],
      "metadata": {
        "id": "E_Dl9dn7DJDJ"
      }
    },
    {
      "cell_type": "code",
      "source": [
        "with open(\"lista.txt\",\"a\") as output:\n",
        "  output.writelines(','.join(dados))"
      ],
      "metadata": {
        "id": "iFC2fp7dDIbg"
      },
      "execution_count": null,
      "outputs": []
    },
    {
      "cell_type": "markdown",
      "source": [
        "Abrindo o arquivo"
      ],
      "metadata": {
        "id": "biFYMovgu6iR"
      }
    },
    {
      "cell_type": "code",
      "source": [
        "dados_salvos = open('lista.txt')\n",
        "dados_salvos = dados_salvos.read()\n",
        "output = dados_salvos.split(',')\n",
        "nomes = output[0:20]\n",
        "notas = [int(item) for item in (output[20:41])]\n",
        "\n",
        "print(dados)\n"
      ],
      "metadata": {
        "colab": {
          "base_uri": "https://localhost:8080/"
        },
        "id": "nU7Twi3Zu8g5",
        "outputId": "344faf46-a76e-431b-9b2c-0a0ef36951dd"
      },
      "execution_count": null,
      "outputs": [
        {
          "output_type": "stream",
          "name": "stdout",
          "text": [
            "['Ian da Mota', 'Danilo da Cunha', 'Valentina Cunha', 'Isabelly Moura', 'Gabriela Monteiro', 'Luiz Henrique das Neves', 'Leandro Moraes', 'Sra. Fernanda Mendes', 'Paulo Santos', 'Sr. Luiz Gustavo Cunha', 'Evelyn Viana', 'Vinicius Moraes', 'Emanuella Ferreira', 'Pedro Lucas Sales', 'Cecília Campos', 'Gustavo Henrique Cavalcanti', 'João Lucas Rezende', 'Olivia Dias', 'Sarah Pereira', 'Alice Cunha', '4', '2', '8', '8', '3', '8', '3', '10', '10', '8', '8', '7', '2', '3', '10', '3', '6', '5', '2', '3']\n"
          ]
        }
      ]
    },
    {
      "cell_type": "markdown",
      "source": [
        "Histograma"
      ],
      "metadata": {
        "id": "icY4T4PZFvLh"
      }
    },
    {
      "cell_type": "code",
      "source": [
        "import matplotlib.pyplot as plt\n",
        "\n",
        "numeros = [ (num2words(n, lang='pt-br')) for n in notas]\n",
        "\n",
        "\n",
        "plt.title('Histograma das Notas')\n",
        "plt.xlabel('Notas')\n",
        "plt.ylabel('Frequência')\n",
        "plt.grid(True)\n",
        "plt.hist(notas, bins = 5, facecolor = 'blue',  alpha = 0.75);\n",
        "plt.show()\n",
        "\n"
      ],
      "metadata": {
        "colab": {
          "base_uri": "https://localhost:8080/",
          "height": 295
        },
        "id": "lVO-RKgHFwfm",
        "outputId": "5a77988f-404c-40e9-e96b-fd8cc7193c34"
      },
      "execution_count": 85,
      "outputs": [
        {
          "output_type": "display_data",
          "data": {
            "text/plain": [
              "<Figure size 432x288 with 1 Axes>"
            ],
            "image/png": "[encoded data removed]"
          },
          "metadata": {
            "needs_background": "light"
          }
        }
      ]
    },
    {
      "cell_type": "markdown",
      "source": [
        "Nuvem de palavras"
      ],
      "metadata": {
        "id": "cYjuJH2vckZN"
      }
    },
    {
      "cell_type": "code",
      "source": [
        "from wordcloud import wordcloud\n",
        "\n",
        "listas = ','.join([n for n in numeros])\n",
        "wc = WordCloud (background_color = 'black', width = 1000, height= 1000).generate(listas)\n",
        "\n",
        "plt.imshow(wc, interpolation='bilinear')\n",
        "plt.axis('off')\n",
        "wc.to_file('wc.png')\n"
      ],
      "metadata": {
        "colab": {
          "base_uri": "https://localhost:8080/",
          "height": 265
        },
        "id": "Sxs1YgLDMhiA",
        "outputId": "c34b274a-95f8-4236-c5a3-56ee5126dff0"
      },
      "execution_count": 87,
      "outputs": [
        {
          "output_type": "execute_result",
          "data": {
            "text/plain": [
              "<wordcloud.wordcloud.WordCloud at 0x7effe3e338d0>"
            ]
          },
          "metadata": {},
          "execution_count": 87
        },
        {
          "output_type": "display_data",
          "data": {
            "text/plain": [
              "<Figure size 432x288 with 1 Axes>"
            ],
            "image/png": "[encoded data removed]"
          },
          "metadata": {
            "needs_background": "light"
          }
        }
      ]
    },
    {
      "cell_type": "markdown",
      "source": [
        "Relatório:\n",
        "\n",
        "\n",
        "**Qual a importância de manipular arquivos de texto?**\n",
        "\n",
        "A manipulação de arquivos de texto é de suma importancia para poder criar uma base de dados como foi feito acima com nomes e notas.\n",
        "\n",
        "**Qual a importância de visualizar os dados em um histograma?**\n",
        "\n",
        "É importante visualizar os dados em um histograma, pois, em um histograma você pode resumir grandes conjuntos de dados de forma visual e comparar rapidamente os resultados.\n",
        "\n",
        "\n",
        "**O que significa a visualização por nuvem de palavras?**\n",
        "\n",
        "O wordClouds são representações visuais de palavras que dão maior destaque às palavras que aparecem com mais frequência.\n",
        "\n"
      ],
      "metadata": {
        "id": "wsC83c6nf6LP"
      }
    }
  ]
}